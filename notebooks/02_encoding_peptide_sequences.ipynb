{
 "cells": [
  {
   "attachments": {},
   "cell_type": "markdown",
   "metadata": {},
   "source": [
    "### Numerical representation strategies demonstration"
   ]
  },
  {
   "cell_type": "code",
   "execution_count": 1,
   "metadata": {},
   "outputs": [
    {
     "name": "stderr",
     "output_type": "stream",
     "text": [
      "/home/nsoto/miniconda3/envs/bio-embeddings/lib/python3.8/site-packages/tqdm/auto.py:21: TqdmWarning: IProgress not found. Please update jupyter and ipywidgets. See https://ipywidgets.readthedocs.io/en/stable/user_install.html\n",
      "  from .autonotebook import tqdm as notebook_tqdm\n"
     ]
    }
   ],
   "source": [
    "import pandas as pd\n",
    "import sys\n",
    "import os\n",
    "sys.path.insert(0, \"../\")\n",
    "from src.numerical_representation.physicochemical_properties import PhysicochemicalEncoder\n",
    "from src.numerical_representation.embedding_representations import BioEmbeddings\n",
    "from src.numerical_representation.fft_encoder import FFTTransform"
   ]
  },
  {
   "attachments": {},
   "cell_type": "markdown",
   "metadata": {},
   "source": [
    "### Loading dataset"
   ]
  },
  {
   "cell_type": "code",
   "execution_count": 2,
   "metadata": {},
   "outputs": [
    {
     "data": {
      "text/html": [
       "<div>\n",
       "<style scoped>\n",
       "    .dataframe tbody tr th:only-of-type {\n",
       "        vertical-align: middle;\n",
       "    }\n",
       "\n",
       "    .dataframe tbody tr th {\n",
       "        vertical-align: top;\n",
       "    }\n",
       "\n",
       "    .dataframe thead th {\n",
       "        text-align: right;\n",
       "    }\n",
       "</style>\n",
       "<table border=\"1\" class=\"dataframe\">\n",
       "  <thead>\n",
       "    <tr style=\"text-align: right;\">\n",
       "      <th></th>\n",
       "      <th>sequence</th>\n",
       "      <th>monomer_state</th>\n",
       "    </tr>\n",
       "  </thead>\n",
       "  <tbody>\n",
       "    <tr>\n",
       "      <th>0</th>\n",
       "      <td>MSKGEELFTGVVPILVELDGDVNGHKFSVSGEGEGDATYGKLTLKF...</td>\n",
       "      <td>0</td>\n",
       "    </tr>\n",
       "    <tr>\n",
       "      <th>1</th>\n",
       "      <td>MSKGEELFTGVVPILVELDGDVNGHKFSVSGEGEGDATYGKLTLKF...</td>\n",
       "      <td>0</td>\n",
       "    </tr>\n",
       "    <tr>\n",
       "      <th>2</th>\n",
       "      <td>MSKGEELFTGVVPILVELDGDVNGHKFSVSGEGEGDATYGKLTLKF...</td>\n",
       "      <td>0</td>\n",
       "    </tr>\n",
       "    <tr>\n",
       "      <th>3</th>\n",
       "      <td>MSKGEELFTGVVPILVELDGDVNGHKFSVSGEGEGDATYGKLTLKF...</td>\n",
       "      <td>0</td>\n",
       "    </tr>\n",
       "    <tr>\n",
       "      <th>4</th>\n",
       "      <td>MSKGEELFTGVVPILVELDGDVNGHKFSVSGEGEGDATYGKLTLKF...</td>\n",
       "      <td>0</td>\n",
       "    </tr>\n",
       "  </tbody>\n",
       "</table>\n",
       "</div>"
      ],
      "text/plain": [
       "                                            sequence  monomer_state\n",
       "0  MSKGEELFTGVVPILVELDGDVNGHKFSVSGEGEGDATYGKLTLKF...              0\n",
       "1  MSKGEELFTGVVPILVELDGDVNGHKFSVSGEGEGDATYGKLTLKF...              0\n",
       "2  MSKGEELFTGVVPILVELDGDVNGHKFSVSGEGEGDATYGKLTLKF...              0\n",
       "3  MSKGEELFTGVVPILVELDGDVNGHKFSVSGEGEGDATYGKLTLKF...              0\n",
       "4  MSKGEELFTGVVPILVELDGDVNGHKFSVSGEGEGDATYGKLTLKF...              0"
      ]
     },
     "execution_count": 2,
     "metadata": {},
     "output_type": "execute_result"
    }
   ],
   "source": [
    "df_data = pd.read_csv(\"../results/dataset_fp.csv\")\n",
    "df_data.head(5)"
   ]
  },
  {
   "attachments": {},
   "cell_type": "markdown",
   "metadata": {},
   "source": [
    "### Numerical representation strategies explored"
   ]
  },
  {
   "attachments": {},
   "cell_type": "markdown",
   "metadata": {},
   "source": [
    "#### Physicochemical properties"
   ]
  },
  {
   "cell_type": "code",
   "execution_count": 3,
   "metadata": {},
   "outputs": [
    {
     "data": {
      "text/html": [
       "<div>\n",
       "<style scoped>\n",
       "    .dataframe tbody tr th:only-of-type {\n",
       "        vertical-align: middle;\n",
       "    }\n",
       "\n",
       "    .dataframe tbody tr th {\n",
       "        vertical-align: top;\n",
       "    }\n",
       "\n",
       "    .dataframe thead th {\n",
       "        text-align: right;\n",
       "    }\n",
       "</style>\n",
       "<table border=\"1\" class=\"dataframe\">\n",
       "  <thead>\n",
       "    <tr style=\"text-align: right;\">\n",
       "      <th></th>\n",
       "      <th>residue</th>\n",
       "      <th>ANDN920101</th>\n",
       "      <th>ROBB760113</th>\n",
       "      <th>ARGP820101</th>\n",
       "      <th>CRAJ730102</th>\n",
       "    </tr>\n",
       "    <tr>\n",
       "      <th>residue</th>\n",
       "      <th></th>\n",
       "      <th></th>\n",
       "      <th></th>\n",
       "      <th></th>\n",
       "      <th></th>\n",
       "    </tr>\n",
       "  </thead>\n",
       "  <tbody>\n",
       "    <tr>\n",
       "      <th>A</th>\n",
       "      <td>A</td>\n",
       "      <td>4.35</td>\n",
       "      <td>-5.1</td>\n",
       "      <td>0.61</td>\n",
       "      <td>1.00</td>\n",
       "    </tr>\n",
       "    <tr>\n",
       "      <th>L</th>\n",
       "      <td>L</td>\n",
       "      <td>4.17</td>\n",
       "      <td>-5.4</td>\n",
       "      <td>1.53</td>\n",
       "      <td>1.53</td>\n",
       "    </tr>\n",
       "    <tr>\n",
       "      <th>R</th>\n",
       "      <td>R</td>\n",
       "      <td>4.38</td>\n",
       "      <td>2.6</td>\n",
       "      <td>0.60</td>\n",
       "      <td>0.74</td>\n",
       "    </tr>\n",
       "    <tr>\n",
       "      <th>K</th>\n",
       "      <td>K</td>\n",
       "      <td>4.36</td>\n",
       "      <td>1.0</td>\n",
       "      <td>1.15</td>\n",
       "      <td>1.18</td>\n",
       "    </tr>\n",
       "    <tr>\n",
       "      <th>N</th>\n",
       "      <td>N</td>\n",
       "      <td>4.75</td>\n",
       "      <td>4.7</td>\n",
       "      <td>0.06</td>\n",
       "      <td>0.75</td>\n",
       "    </tr>\n",
       "  </tbody>\n",
       "</table>\n",
       "</div>"
      ],
      "text/plain": [
       "        residue  ANDN920101  ROBB760113  ARGP820101  CRAJ730102\n",
       "residue                                                        \n",
       "A             A        4.35        -5.1        0.61        1.00\n",
       "L             L        4.17        -5.4        1.53        1.53\n",
       "R             R        4.38         2.6        0.60        0.74\n",
       "K             K        4.36         1.0        1.15        1.18\n",
       "N             N        4.75         4.7        0.06        0.75"
      ]
     },
     "execution_count": 3,
     "metadata": {},
     "output_type": "execute_result"
    }
   ],
   "source": [
    "path_input = \"../results/encoders\"\n",
    "dataset_encoder = pd.read_csv(\"../input_data_for_coding/aaindex_encoders.csv\")\n",
    "\n",
    "# ANDN920101 -> alpha helix\n",
    "# ROBB760113 -> loop\n",
    "# CRAJ730102 -> beta sheet\n",
    "# ARGP820101 -> hydrophobicity\n",
    "\n",
    "dataset_encoder = dataset_encoder[[\"residue\", \"ANDN920101\", \"ROBB760113\", \"ARGP820101\", \"CRAJ730102\"]]\n",
    "dataset_encoder.index = dataset_encoder[\"residue\"]\n",
    "dataset_encoder.head(5)"
   ]
  },
  {
   "cell_type": "code",
   "execution_count": 5,
   "metadata": {},
   "outputs": [
    {
     "name": "stdout",
     "output_type": "stream",
     "text": [
      "mkdir -p ../results/encoders/physicochemical_properties/ANDN920101\n",
      "Start codifications\n",
      "Encoding and Processing results\n",
      "Creating dataset\n",
      "Export dataset\n",
      "mkdir -p ../results/encoders/physicochemical_properties/ROBB760113\n",
      "Start codifications\n",
      "Encoding and Processing results\n",
      "Creating dataset\n",
      "Export dataset\n",
      "mkdir -p ../results/encoders/physicochemical_properties/ARGP820101\n",
      "Start codifications\n",
      "Encoding and Processing results\n",
      "Creating dataset\n",
      "Export dataset\n",
      "mkdir -p ../results/encoders/physicochemical_properties/CRAJ730102\n",
      "Start codifications\n",
      "Encoding and Processing results\n",
      "Creating dataset\n",
      "Export dataset\n"
     ]
    }
   ],
   "source": [
    "propertys = [\"ANDN920101\", \"ROBB760113\", \"ARGP820101\", \"CRAJ730102\"]\n",
    "\n",
    "for group in propertys:\n",
    "    command = f\"mkdir -p {path_input}/physicochemical_properties/{group}\"\n",
    "    print(command)\n",
    "    os.system(command)\n",
    "\n",
    "    print(\"Start codifications\")\n",
    "    name_export = f\"{path_input}/physicochemical_properties/{group}/coded_dataset.csv\"\n",
    "\n",
    "    physicochemical_encoder = PhysicochemicalEncoder(\n",
    "        dataset=df_data,\n",
    "        property_encoder = group,\n",
    "        dataset_encoder=dataset_encoder,\n",
    "        columns_to_ignore=[\"monomer_state\"],\n",
    "        name_column_seq=\"sequence\"\n",
    "    )\n",
    "\n",
    "    physicochemical_encoder.run_process()\n",
    "    physicochemical_encoder.df_data_encoded.to_csv(name_export, index=False)"
   ]
  },
  {
   "attachments": {},
   "cell_type": "markdown",
   "metadata": {},
   "source": [
    "#### FFT transform"
   ]
  },
  {
   "cell_type": "code",
   "execution_count": 6,
   "metadata": {},
   "outputs": [
    {
     "name": "stdout",
     "output_type": "stream",
     "text": [
      "Reading datasets\n",
      "mkdir -p ../results/encoders/FFT/ANDN920101\n",
      "Start codifications\n",
      "Applying FFT\n",
      "Removing columns data\n",
      "Get near pow 2 value\n",
      "Apply zero padding\n",
      "Creating dataset\n",
      "Export dataset\n",
      "Reading datasets\n",
      "mkdir -p ../results/encoders/FFT/ROBB760113\n",
      "Start codifications\n",
      "Applying FFT\n",
      "Removing columns data\n",
      "Get near pow 2 value\n",
      "Apply zero padding\n",
      "Creating dataset\n",
      "Export dataset\n",
      "Reading datasets\n",
      "mkdir -p ../results/encoders/FFT/ARGP820101\n",
      "Start codifications\n",
      "Applying FFT\n",
      "Removing columns data\n",
      "Get near pow 2 value\n",
      "Apply zero padding\n",
      "Creating dataset\n",
      "Export dataset\n",
      "Reading datasets\n",
      "mkdir -p ../results/encoders/FFT/CRAJ730102\n",
      "Start codifications\n",
      "Applying FFT\n",
      "Removing columns data\n",
      "Get near pow 2 value\n",
      "Apply zero padding\n",
      "Creating dataset\n",
      "Export dataset\n"
     ]
    }
   ],
   "source": [
    "for group in propertys:\n",
    "    print(\"Reading datasets\")\n",
    "    df_coded = pd.read_csv(f\"{path_input}/physicochemical_properties/{group}/coded_dataset.csv\")\n",
    "\n",
    "    command = f\"mkdir -p {path_input}/FFT/{group}\"\n",
    "    print(command)\n",
    "    os.system(command)\n",
    "\n",
    "    print(\"Start codifications\")\n",
    "\n",
    "    name_export = f\"{path_input}/FFT/{group}/coded_dataset.csv\"\n",
    "\n",
    "    print(\"Applying FFT\")\n",
    "    fft_transform = FFTTransform(\n",
    "        dataset=df_coded,\n",
    "        size_data=len(df_coded.columns)-1,\n",
    "        columns_to_ignore=[\"monomer_state\"],\n",
    "    )\n",
    "\n",
    "    response_coded = fft_transform.encoding_dataset()\n",
    "    response_coded.to_csv(name_export, index=False)"
   ]
  },
  {
   "attachments": {},
   "cell_type": "markdown",
   "metadata": {},
   "source": [
    "#### Embedding through bio-embedding tool"
   ]
  },
  {
   "cell_type": "code",
   "execution_count": 14,
   "metadata": {},
   "outputs": [],
   "source": [
    "bioembedding_instance = BioEmbeddings(\n",
    "    dataset = df_data,\n",
    "    seq_column = \"sequence\",\n",
    "    is_reduced = True,\n",
    "    device = \"cuda\",\n",
    "    column_response = \"monomer_state\",\n",
    "    path_export = \"../results/encoders/\"\n",
    ")\n",
    "\n",
    "bioembedding_instance.apply_bepler(name_export=\"coded_dataset\")\n",
    "bioembedding_instance.apply_onehot(name_export=\"coded_dataset\") # One Hot\n",
    "bioembedding_instance.apply_esm1b(name_export=\"coded_dataset\")\n",
    "bioembedding_instance.apply_esme(name_export=\"coded_dataset\")"
   ]
  }
 ],
 "metadata": {
  "kernelspec": {
   "display_name": "bio-embeddings",
   "language": "python",
   "name": "python3"
  },
  "language_info": {
   "codemirror_mode": {
    "name": "ipython",
    "version": 3
   },
   "file_extension": ".py",
   "mimetype": "text/x-python",
   "name": "python",
   "nbconvert_exporter": "python",
   "pygments_lexer": "ipython3",
   "version": "3.8.19"
  },
  "orig_nbformat": 4
 },
 "nbformat": 4,
 "nbformat_minor": 2
}
