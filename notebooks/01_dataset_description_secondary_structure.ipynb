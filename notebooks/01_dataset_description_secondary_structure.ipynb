{
 "cells": [
  {
   "cell_type": "code",
   "execution_count": 1,
   "metadata": {},
   "outputs": [],
   "source": [
    "import pandas as pd\n",
    "import numpy as np"
   ]
  },
  {
   "cell_type": "code",
   "execution_count": 2,
   "metadata": {},
   "outputs": [],
   "source": [
    "def renombrar_columnas(df):\n",
    "    return df.rename(columns={\n",
    "        \"acc\": \"solvent accessibility\",\n",
    "        \"diso\": \"order/disorder prediction\",\n",
    "        \"ss3\": \"secondary structure element (ss3)\", \n",
    "        \"ss8\": \"secondary structure element (ss8)\",\n",
    "        \"tm2\": \"transMembrane topology (tm2)\",\n",
    "        \"tm8\": \"transMembrane topology (tm8)\"\n",
    "    })"
   ]
  },
  {
   "cell_type": "code",
   "execution_count": 3,
   "metadata": {},
   "outputs": [],
   "source": [
    "def calcular_proporciones(df, columns, unique_label):\n",
    "    proportion_data = []\n",
    "\n",
    "    for col in columns:\n",
    "        for response in unique_label:\n",
    "            df_protein = df[df['monomer_state'] == response]\n",
    "            structure_counts = {}\n",
    "            total_chars = 0\n",
    "\n",
    "            for seq in df_protein[col].dropna():\n",
    "                total_chars += len(seq)\n",
    "                for char in seq:\n",
    "                    if char in structure_counts:\n",
    "                        structure_counts[char] += 1\n",
    "                    else:\n",
    "                        structure_counts[char] = 1\n",
    "\n",
    "            for structure_type, count in structure_counts.items():\n",
    "                proportion = count / total_chars\n",
    "\n",
    "                proportion_data.append({\n",
    "                    \"label\": response,\n",
    "                    \"structure_type\": structure_type,\n",
    "                    \"column\": col,\n",
    "                    \"proportion\": proportion\n",
    "                })\n",
    "\n",
    "    return pd.DataFrame(proportion_data)\n"
   ]
  },
  {
   "cell_type": "code",
   "execution_count": 6,
   "metadata": {},
   "outputs": [],
   "source": [
    "df_ss = pd.read_csv(\"../results/characterizing_dataset/secondary_structure_dataset_df.csv\")\n",
    "df_ss = renombrar_columnas(df_ss)\n",
    "df_data = pd.read_csv(\"../results/dataset_fp.csv\")\n",
    "df_merge = pd.merge(df_ss, df_data, right_on=\"sequence\", left_on=\"seq\")\n",
    "\n",
    "columns = [\n",
    "    \"secondary structure element (ss3)\", \"secondary structure element (ss8)\", 'solvent accessibility', \n",
    "    \"order/disorder prediction\", \"transMembrane topology (tm2)\", \"transMembrane topology (tm8)\"\n",
    "]\n",
    "unique_label = df_merge['monomer_state'].unique()\n",
    "proportion_data = calcular_proporciones(df_merge, columns, unique_label)"
   ]
  },
  {
   "cell_type": "code",
   "execution_count": 7,
   "metadata": {},
   "outputs": [],
   "source": [
    "proportion_data.to_csv(\"../results/characterizing_dataset/percentage_ss.csv\", index=False)"
   ]
  }
 ],
 "metadata": {
  "kernelspec": {
   "display_name": "Python 3",
   "language": "python",
   "name": "python3"
  },
  "language_info": {
   "codemirror_mode": {
    "name": "ipython",
    "version": 3
   },
   "file_extension": ".py",
   "mimetype": "text/x-python",
   "name": "python",
   "nbconvert_exporter": "python",
   "pygments_lexer": "ipython3",
   "version": "3.10.12"
  }
 },
 "nbformat": 4,
 "nbformat_minor": 2
}
