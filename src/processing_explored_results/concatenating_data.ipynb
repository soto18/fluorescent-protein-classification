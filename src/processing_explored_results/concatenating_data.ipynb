{
 "cells": [
  {
   "cell_type": "code",
   "execution_count": 31,
   "metadata": {},
   "outputs": [],
   "source": [
    "import pandas as pd\n",
    "import os"
   ]
  },
  {
   "cell_type": "code",
   "execution_count": 32,
   "metadata": {},
   "outputs": [],
   "source": [
    "path_results = \"../../results/performance\"\n",
    "list_type_encoders = ['embedding', 'FFT', 'physicochemical_properties']"
   ]
  },
  {
   "cell_type": "code",
   "execution_count": 33,
   "metadata": {},
   "outputs": [
    {
     "name": "stdout",
     "output_type": "stream",
     "text": [
      "Processing encoder:  embedding\n",
      "Processing encoder:  FFT\n",
      "Processing encoder:  physicochemical_properties\n"
     ]
    }
   ],
   "source": [
    "list_df = []\n",
    "\n",
    "for type_encoder in list_type_encoders:\n",
    "    print(\"Processing encoder: \", type_encoder)\n",
    "    path_export = f\"../../results/summary_exploring/\"\n",
    "    command = f\"mkdir -p {path_export}\"\n",
    "    os.system(command)\n",
    "\n",
    "    list_encoder = os.listdir(f\"{path_results}/{type_encoder}/\")\n",
    "\n",
    "    for encoder in list_encoder:\n",
    "        list_files = os.listdir(f\"{path_results}/{type_encoder}/{encoder}\")\n",
    "\n",
    "        for doc_file in list_files:\n",
    "            df_data = pd.read_csv(f\"{path_results}/{type_encoder}/{encoder}/{doc_file}\")\n",
    "            df_data[\"encoder\"] = f\"{encoder}_{type_encoder}\"\n",
    "            df_data[\"random_seed\"] = 42\n",
    "\n",
    "            list_df.append(df_data)\n",
    "    \n",
    "df_explored = pd.concat(list_df, axis=0)"
   ]
  },
  {
   "cell_type": "code",
   "execution_count": 34,
   "metadata": {},
   "outputs": [],
   "source": [
    "df_explored.to_csv(f\"{path_export}/explored_data.csv\", index=False)"
   ]
  }
 ],
 "metadata": {
  "kernelspec": {
   "display_name": "base",
   "language": "python",
   "name": "python3"
  },
  "language_info": {
   "codemirror_mode": {
    "name": "ipython",
    "version": 3
   },
   "file_extension": ".py",
   "mimetype": "text/x-python",
   "name": "python",
   "nbconvert_exporter": "python",
   "pygments_lexer": "ipython3",
   "version": "3.12.2"
  }
 },
 "nbformat": 4,
 "nbformat_minor": 2
}
